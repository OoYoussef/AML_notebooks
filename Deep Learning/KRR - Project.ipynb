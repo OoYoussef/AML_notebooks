{
 "cells": [
  {
   "cell_type": "markdown",
   "metadata": {},
   "source": [
    "<h3 style=\"text-align:center\">Knowledge Representation and Reasoning - Project - Fall 2018 </h3>"
   ]
  },
  {
   "cell_type": "markdown",
   "metadata": {},
   "source": [
    "\n",
    "<h1 style=\"text-align:center\">Handwritten digit recognition using </h1> <h1 style=\"text-align:center\"> Artificial and Convolutional Neural Networks </h1>"
   ]
  },
  {
   "cell_type": "markdown",
   "metadata": {},
   "source": [
    "#### Team n°3:\n",
    "AZEBA YOUSSEF <br>\n",
    "DAVLETSHIN SAMAT IREKOVICH <br>\n",
    "OH CHANGSUK <br>\n",
    "SVEDBORG ANDERSSON FELIX JOERGEN <br>"
   ]
  },
  {
   "cell_type": "markdown",
   "metadata": {},
   "source": [
    "# Project Overview"
   ]
  },
  {
   "cell_type": "markdown",
   "metadata": {},
   "source": [
    "In this project, we will implement, train and test Neural Networks on Python, with different settings of hyperparameters, to solve the Handwritten Digits Recognition problem , using the MNIST dataset<br><br>\n",
    "\n",
    "First, we will implement an Artificial Neural Network (ANN) from scratch, without using any Deep Learning library. This will allow us to understand the inner workings of Neural Networks and we will gain a better understanding of Deep Learning.<br><br>\n",
    "\n",
    "Then, in order to get a better accuracy than the previous model, we will implement a Convolutional Neural Networks (CNN) using TensorFlow this time. Our goal will be to optimize our model to get a final accuracy of more than 99%.<br><br>\n",
    "\n",
    "We used Google Colaboratory to share our code. It’s a free Jupyter notebook environment that runs entirely in the cloud.<br><br>\n",
    "\n",
    "Finally, we decided to focus on handwriting recognition in our project, because it's an excellent prototype problem for learning about neural networks in general. As a prototype it hits a sweet spot: it's challenging - it's no small feat to recognize handwritten digits - but also it doesn’t require tremendous computational power. The same ideas we’ll use to solve this problem may be applied to other problems in computer vision, and also in speech, natural language processing, and other domains."
   ]
  },
  {
   "cell_type": "markdown",
   "metadata": {},
   "source": [
    "# Introduction"
   ]
  },
  {
   "cell_type": "markdown",
   "metadata": {},
   "source": [
    "We will use the MNIST <a href=\"http://yann.lecun.com/exdb/mnist/\"> [1] </a>  dataset which was constructed from scanned documents available from the National Institute of Standards and Technology (NIST). Images of digits were taken from a variety of scanned documents, normalized in size and centered. \n",
    "\n",
    "\n",
    "<img src=\"mnist.png\" alt=\"Drawing\" style=\"width: 200px;\"/>\n",
    "<center><span>Figure 1: MNIST digits examples</span></center>\n",
    "\n",
    "\n",
    "We defined some useful functions in the following files, that we will import later:\n",
    "\n",
    "1. <a href=\"NeuralNetwork.py\"> NeuralNetwork.py </a> \n",
    "2. <a href=\"transfer_functions.py\"> transfer_functions.py </a> \n",
    "3.  <a href=\"utils.py \"> utils.py </a> \n",
    "\n",
    "\n",
    "\n",
    "This notebook is composed of two parts: ANNs and CNNs.\n",
    "for the ANN part, we will only use the following libraries:\n",
    "\n",
    "1. <a href=\"http://cs231n.github.io/python-numpy-tutorial/\"> numpy </a>: for creating arrays and using methods to manipulate arrays;\n",
    "\n",
    "2. <a href=\"http://matplotlib.org/\"> matplotlib  </a>: for making plots.\n",
    "\n",
    "Let's write some code!"
   ]
  },
  {
   "cell_type": "code",
   "execution_count": 1,
   "metadata": {},
   "outputs": [],
   "source": [
    "# All imports\n",
    "from NeuralNetwork import NeuralNetwork\n",
    "from transfer_functions import *\n",
    "from utils import *\n",
    "import numpy as np\n",
    "import matplotlib.pyplot as plt\n",
    "#to compute training time\n",
    "from time import time"
   ]
  },
  {
   "cell_type": "markdown",
   "metadata": {},
   "source": [
    "# Part 1: Artificial Neural Networks"
   ]
  },
  {
   "cell_type": "markdown",
   "metadata": {},
   "source": [
    "## Section 1 :  A simple Neural Network\n",
    "\n",
    "<b>Subsection 1</b>: Before designing and writing our code, we will first work on a simple neural network by hand. \n",
    "Let's consider the following neural network with two inputs $x=(x_1,x_2)$, one hidden layer and a single output unit $y$.\n",
    "The initial weights are set to random values. Neurons 6 and 7 represent biases. Bias values are equal to 1. We will consider a training sample whose feature vector is $x = (0.8, 0.2)$ and whose label is $y = 0.4$.\n",
    "\n",
    "Let's assume that neurons have a sigmoid activation function  $f(x)=\\frac{1}{(1+e^{-x})}$. The loss function $L$ is a Mean Squared Error (MSE): if $o$ denotes the output of the neural network, then the loss for a given sample $(o, y)$ is $L(o, y) = \\left|\\left| o - y \\right|\\right|^2$. In the following, we will assume that if you want to backpropagate the error on a whole batch, we will backpropagate the average error on that batch. More formally, let $((x^{(1)}, y^{(1)}), ..., (x^{(N)}, y^{(N)}))$ be a batch and $o^{(k)}$ the output associated to $x^{(k)}$. Then the total error $\\bar{L}$ will be as follows:\n",
    "\n",
    "<div align=\"center\">$\\bar{L} = \\frac{1}{N} \\sum_{k=1}^{N} L(o^{(k)}, y^{(k)})$.</div>\n",
    "\n",
    "\n",
    "\n",
    "\n",
    "![ANN](NN.png)\n",
    "<center><span>Figure 2: Neural network </span></center>\n",
    "<br>\n",
    "$(x_1,x_2)$ is the input layer.<br>\n",
    "$(x_3,x_4)$ is the hidden layer.<br>\n",
    "$x_5$ is the output.<br>\n",
    "$x_6$ and $x_7$ are the biases.<br>\n",
    "\n",
    "\n",
    "\n",
    "\n",
    "\n"
   ]
  },
  {
   "cell_type": "markdown",
   "metadata": {},
   "source": [
    "Let's compute the new values of weights $w_{i,j}$ after a forward pass and a backward pass, and the outputs of the neural network before and after the backward path, when the learning rate is $\\lambda$=5.\n",
    "$w_{i,j}$ is the weight of the connexion between neuron $i$ and neuron $j$."
   ]
  },
  {
   "cell_type": "markdown",
   "metadata": {},
   "source": [
    "N.B: We use functions that we previously defined on utils.py: $sigmoid(x)$ and its derivative $dsigmoid(x)$."
   ]
  },
  {
   "cell_type": "code",
   "execution_count": 2,
   "metadata": {},
   "outputs": [
    {
     "name": "stdout",
     "output_type": "stream",
     "text": [
      "=== FORWARD PASS 1 ===\n",
      "Output = 0.5597295991095776\n",
      "=== BACKWARD PASS ===\n",
      "w13 = 0.34263517938221466\n",
      "w14 = -0.5307040317301952\n",
      "w23 = 0.8106587948455537\n",
      "w24 = 0.1923239920674512\n",
      "w63 = 0.2532939742277684\n",
      "w64 = -0.438380039662744\n",
      "w35 = -0.8541467506279605\n",
      "w45 = 0.2745727217772572\n",
      "w75 = 0.10637455535192786\n",
      "=== FORWARD PASS 2 ===\n",
      "Output = 0.4064460781818811\n"
     ]
    }
   ],
   "source": [
    "lr = 5\n",
    "x1, x2, x6, x7 = 0.8, 0.2, 1.0, 1.0\n",
    "w13, w14, w23, w24, w63, w64 = 0.3, -0.5, 0.8, 0.2, 0.2, -0.4\n",
    "w35, w45, w75 = -0.6, 0.4, 0.5\n",
    "y = 0.4\n",
    "\n",
    "u3=w13*x1+w23*x2+w63 #put b to -1\n",
    "x3 =sigmoid(u3)\n",
    "\n",
    "u4=x1*w14+w24*x2+w64\n",
    "x4 = sigmoid(u4)\n",
    "\n",
    "u5=w35*x3+w45*x4+w75 #put b to -1\n",
    "x5 = sigmoid(u5)\n",
    "\n",
    "print(\"=== FORWARD PASS 1 ===\")\n",
    "print(\"Output =\", x5)\n",
    "\n",
    "d_w35 = 2*(x5-y)*dsigmoid(u5)*x3\n",
    "d_w45 = 2*(x5-y)*dsigmoid(u5)*x4\n",
    "d_w75 = 2*(x5-y)*dsigmoid(u5)*x7\n",
    "\n",
    "d_w13 = 2*(x5-y)*x1*w35*dsigmoid(u5)*dsigmoid(x3)\n",
    "d_w14 = 2*(x5-y)*x1*w45*dsigmoid(u5)*dsigmoid(x4)\n",
    "d_w23 = 2*(x5-y)*x2*w35*dsigmoid(u5)*dsigmoid(x3)\n",
    "d_w24 = 2*(x5-y)*x2*w45*dsigmoid(u5)*dsigmoid(x4)\n",
    "d_w63 = 2*(x5-y)*x6*w35*dsigmoid(u5)*dsigmoid(x3)\n",
    "d_w64 = 2*(x5-y)*x6*w45*dsigmoid(u5)*dsigmoid(x4)\n",
    "\n",
    "w13 = w13- lr*d_w13\n",
    "w14 -= lr*d_w14\n",
    "w23 -= lr*d_w23\n",
    "w24 -= lr*d_w24\n",
    "w63 -= lr*d_w63\n",
    "w64 -= lr*d_w64\n",
    "w35 -= lr*d_w35\n",
    "w45 -= lr*d_w45\n",
    "w75 -= lr*d_w75\n",
    "\n",
    "print(\"=== BACKWARD PASS ===\")\n",
    "print(\"w13 =\", w13)\n",
    "print(\"w14 =\", w14)\n",
    "print(\"w23 =\", w23)\n",
    "print(\"w24 =\", w24)\n",
    "print(\"w63 =\", w63)\n",
    "print(\"w64 =\", w64)\n",
    "print(\"w35 =\", w35)\n",
    "print(\"w45 =\", w45)\n",
    "print(\"w75 =\", w75)\n",
    "\n",
    "u3=w13*x1+w23*x2+w63 #put b to -1\n",
    "x3 =sigmoid(u3)\n",
    "\n",
    "u4=x1*w14+w24*x2+w64\n",
    "x4 = sigmoid(u4)\n",
    "\n",
    "u5=w35*x3+w45*x4+w75 #put b to -1\n",
    "x5 = sigmoid(u5)\n",
    "\n",
    "print(\"=== FORWARD PASS 2 ===\")\n",
    "print(\"Output =\", x5)\n"
   ]
  },
  {
   "cell_type": "markdown",
   "metadata": {},
   "source": [
    "<strong>Subsection 2</strong>: Neural Network Implementation<br><br>\n",
    "\n",
    "Now that we understood how it works, let's implement the feedforward() function."
   ]
  },
  {
   "cell_type": "code",
   "execution_count": 3,
   "metadata": {},
   "outputs": [],
   "source": [
    "class NeuralNetwork(NeuralNetwork):\n",
    "    def feedforward(self, inputs):\n",
    "\n",
    "        #print(\"len(inputs) 0: \", len(inputs))\n",
    "        # initialize arrays for activations\n",
    "        self.u_hidden = np.zeros((len(inputs), self.hidden_layer_size-1))\n",
    "        self.u_output = np.zeros((len(inputs), self.output_layer_size))\n",
    "\n",
    "        # initialize arrays for outputs\n",
    "        self.o_input = np.ones((len(inputs), self.input_layer_size))\n",
    "        self.o_hidden = np.ones((len(inputs), self.hidden_layer_size))\n",
    "        self.o_output = np.ones((len(inputs), self.output_layer_size))\n",
    "\n",
    "        # initialize arrays for partial derivatives according to activations\n",
    "        self.dE_du_hidden = np.zeros((len(inputs), self.hidden_layer_size-1))\n",
    "        self.dE_du_output = np.zeros((len(inputs), self.output_layer_size))\n",
    "        \n",
    "        \n",
    "            \n",
    "        #output of the input layer which corresponds to the inputs (bias neuron = 1.0)\n",
    "\n",
    "        self.o_input[:,:-1]=np.array(inputs)\n",
    "        self.o_input[:,-1:]=1\n",
    "        #print(\"len(inputs) 1: \", len(inputs))\n",
    "        #activations of the hidden layer\n",
    "        self.u_hidden=np.dot(self.o_input, self.W_input_to_hidden)\n",
    "        #ouput of the hidden layer\n",
    "        self.o_hidden[:,:-1]=self.transfer_f(self.u_hidden) #.reshape((1, len(self.transfer_f(self.u_hidden))))\n",
    "        \n",
    "        # set bias neuron in hidden layer to 1.0\n",
    "        self.o_hidden[:, -1:]=1\n",
    "            \n",
    "        #print(\"sigmoid(self.u_hidden[i])\", np.array(sigmoid(self.u_hidden[i])).shape)\n",
    "        #print(\"self.o_hidden[i] shape\", np.array(self.o_hidden[i,:-1]).shape)\n",
    "        #activations of the output layer\n",
    "        self.u_output=np.dot(self.o_hidden, self.W_hidden_to_output)\n",
    "        #output of the output layer\n",
    "        self.o_output=self.transfer_f(self.u_output)\n",
    "        #print(\"self.o_output[0] shape\", self.o_output[0].shape)"
   ]
  },
  {
   "cell_type": "markdown",
   "metadata": {},
   "source": [
    "Let's test our implementation.<br>\n",
    "Let's create the Neural Network defined in Part 1 and see if the feedforward() function gives the same results as the ones we found by hand."
   ]
  },
  {
   "cell_type": "code",
   "execution_count": 4,
   "metadata": {},
   "outputs": [
    {
     "name": "stdout",
     "output_type": "stream",
     "text": [
      "Output = 0.5597295991095776\n"
     ]
    }
   ],
   "source": [
    "w13, w14, w23, w24, w63, w64 = 0.3, -0.5, 0.8, 0.2, 0.2, -0.4\n",
    "w35, w45, w75 = -0.6, 0.4, 0.5\n",
    "\n",
    "# First define your neural network\n",
    "model = NeuralNetwork(input_layer_size=2, hidden_layer_size=2, output_layer_size=1, transfer_f=sigmoid, transfer_df=dsigmoid)\n",
    "\n",
    "# Then initialize the weights according to Figure 2\n",
    "W_input_to_hidden = [[w13, w14], [w23, w24], [w63, w64]]\n",
    "W_hidden_to_output = [[w35], [w45], [w75]]\n",
    "model.weights_init(W_input_to_hidden, W_hidden_to_output)\n",
    "\n",
    "# Feed test values\n",
    "test = [[[0.8, 0.2]]]\n",
    "model.feedforward(test)\n",
    "\n",
    "\n",
    "# Print the output\n",
    "print(\"Output =\", model.o_output[0,0])"
   ]
  },
  {
   "cell_type": "markdown",
   "metadata": {},
   "source": [
    "Let's implement the backpropagate() function."
   ]
  },
  {
   "cell_type": "code",
   "execution_count": 5,
   "metadata": {},
   "outputs": [],
   "source": [
    "class NeuralNetwork(NeuralNetwork):\n",
    "    def backpropagate(self, targets, learning_rate=5.0):\n",
    "        \n",
    "            #error\n",
    "            ##########################\n",
    "            error=(self.o_output-np.array(targets))\n",
    "            #derivative of the error with respect to the activation for the output layer\n",
    "            self.dE_du_output=self.transfer_df(self.u_output)*error*2/len(targets)\n",
    "            #derivative of the error with respect to the activation for the hidden layer \n",
    "\n",
    "            self.dE_du_hidden=self.transfer_df(self.u_hidden)*np.dot( self.dE_du_output, self.W_hidden_to_output[:-1,:].T )\n",
    "            # weight changes for the output layer\n",
    "            self.W_hidden_to_output-=learning_rate*np.dot(np.asmatrix(self.o_hidden).T , np.asmatrix(self.dE_du_output))\n",
    "            # weight changes for the hidden layer\n",
    "            self.W_input_to_hidden-=learning_rate*np.dot(np.asmatrix(self.o_input).T,np.asmatrix(self.dE_du_hidden) )"
   ]
  },
  {
   "cell_type": "markdown",
   "metadata": {},
   "source": [
    "Let's test our implementation.\n",
    "Let's create the Neural Network defined in Part 1 and see if the backpropagate() function gives the same weight updates as the ones we found by hand. <br> Then we'll do another forward pass and see if the new output is the same as the one we obtained previously."
   ]
  },
  {
   "cell_type": "code",
   "execution_count": 6,
   "metadata": {},
   "outputs": [
    {
     "name": "stdout",
     "output_type": "stream",
     "text": [
      "W_input_to_hidden = [[ 0.34322654 -0.52734731]\n",
      " [ 0.81080664  0.19316317]\n",
      " [ 0.25403318 -0.43418414]]\n",
      "W_hidden_to_output = [[-0.85414675]\n",
      " [ 0.27457272]\n",
      " [ 0.10637456]]\n",
      "Output = 0.40648823589210104\n"
     ]
    }
   ],
   "source": [
    "w13, w14, w23, w24, w63, w64 = 0.3, -0.5, 0.8, 0.2, 0.2, -0.4\n",
    "w35, w45, w75 = -0.6, 0.4, 0.5\n",
    "\n",
    "# First define your neural network\n",
    "model = NeuralNetwork(input_layer_size=2, hidden_layer_size=2, output_layer_size=1, transfer_f=sigmoid, transfer_df=dsigmoid)\n",
    "\n",
    "# Then initialize the weights according to Figure 2\n",
    "W_input_to_hidden = np.array([[w13, w14], [w23, w24], [w63, w64]])\n",
    "W_hidden_to_output = np.array([[w35], [w45], [w75]])\n",
    "model.weights_init(W_input_to_hidden, W_hidden_to_output)\n",
    "\n",
    "# Feed test values\n",
    "test = [[[0.8, 0.2]]]\n",
    "model.feedforward(test)\n",
    "\n",
    "# Backpropagate\n",
    "targets = [[0.4]]\n",
    "model.backpropagate(targets)\n",
    "\n",
    "# Print weights\n",
    "print(\"W_input_to_hidden =\", model.W_input_to_hidden)\n",
    "print(\"W_hidden_to_output =\", model.W_hidden_to_output)\n",
    "\n",
    "# Feed test values again\n",
    "model.feedforward(test)\n",
    "\n",
    "# Print the output\n",
    "print(\"Output =\", model.o_output[0,0])"
   ]
  },
  {
   "cell_type": "markdown",
   "metadata": {},
   "source": [
    "## Section 2: Handwritten Digits Recognition\n",
    "The MNIST dataset consists of handwritten digit images. It is split into a training set containing 60,000 samples and a test set containing 10,000 samples. In our project, the official training set of 60,000 images is divided into an actual training set of 50,000 samples a validation set of 10,000 samples. All digit images have been size-normalized and centered in a fixed size image of 28 x 28 pixels. Images are stored in byte form: you will use the NumPy python library to convert data files into NumPy arrays that you will use to train your Neural Networks.\n",
    "\n",
    "You will first work with a small subset of MNIST (1000 samples), then on a very small subset of MNIST (10 samples), and eventually run a model on the whole one.\n",
    "\n",
    "The MNIST dataset is available in the Data folder. To get the training, testing and validation data, run the load_data() function."
   ]
  },
  {
   "cell_type": "code",
   "execution_count": 7,
   "metadata": {},
   "outputs": [
    {
     "name": "stdout",
     "output_type": "stream",
     "text": [
      "Loading MNIST data .....\n",
      "Done.\n"
     ]
    }
   ],
   "source": [
    "# Just run that cell ;-)\n",
    "training_data, validation_data, test_data = load_data()\n",
    "small_training_data = (training_data[0][:1000], training_data[1][:1000])\n",
    "small_validation_data = (validation_data[0][:200], validation_data[1][:200])\n",
    "indices = [1, 3, 5, 7, 2, 0, 13, 15, 17, 4]\n",
    "vsmall_training_data = ([training_data[0][i] for i in indices], [training_data[1][i] for i in indices])"
   ]
  },
  {
   "cell_type": "markdown",
   "metadata": {},
   "source": [
    "So the data is separated into three sets: training, validation and test data.<br>\n",
    "We also have a little fraction of our training data called small_training_data that we will use to run of programs faster.<br>\n",
    "We'll only use the full training data ($50,000$ samples) at the end. It should give the best performance.<br><br>\n",
    "Let's see how our data looks like:"
   ]
  },
  {
   "cell_type": "code",
   "execution_count": 8,
   "metadata": {},
   "outputs": [
    {
     "data": {
      "image/png": "[encoded data removed]",
      "text/plain": [
       "<Figure size 432x288 with 10 Axes>"
      ]
     },
     "metadata": {},
     "output_type": "display_data"
    }
   ],
   "source": [
    "# And you can run that cell if you want to see what the MNIST dataset looks like\n",
    "ROW = 2\n",
    "COLUMN = 5\n",
    "for i in range(ROW * COLUMN):\n",
    "    # train[i][0] is i-th image data with size 28x28\n",
    "    image = np.array(training_data[0][i]).reshape(28, 28)   \n",
    "    plt.subplot(ROW, COLUMN, i+1)          \n",
    "    plt.imshow(image, cmap='gray')  # cmap='gray' is for black and white picture.\n",
    "plt.axis('off')  # do not show axis value\n",
    "plt.tight_layout()   # automatic padding between subplots\n",
    "plt.show()"
   ]
  },
  {
   "cell_type": "code",
   "execution_count": 9,
   "metadata": {},
   "outputs": [],
   "source": [
    "# the following is a simple function that returns accuracy classification score\n",
    "from sklearn.metrics import accuracy_score\n",
    "def accuracy(model,targets):\n",
    "    outputs=np.argmax(model.o_output,axis=1)\n",
    "    targets_numbers=np.argmax(targets,axis=1)\n",
    "    return accuracy_score(outputs,targets_numbers)*100"
   ]
  },
  {
   "cell_type": "markdown",
   "metadata": {},
   "source": [
    "Now we'll write a simple function that creates and trains a neural network. It takes the following parameters: number of epochs, number of hidden neurons, number of learning rates to try, training data and test data."
   ]
  },
  {
   "cell_type": "code",
   "execution_count": 22,
   "metadata": {
    "scrolled": true
   },
   "outputs": [],
   "source": [
    "def training(epochs, neurons, lr_list, train_data,test_data):\n",
    "    start=time()\n",
    "    \n",
    "    inputs=train_data[0]\n",
    "    targets=train_data[1]\n",
    "\n",
    "    \n",
    "    \n",
    "    for learning_rate in lr_list:\n",
    "        start=time()\n",
    "        nn_model= NeuralNetwork(input_layer_size=784, hidden_layer_size=neurons, output_layer_size=10, transfer_f=sigmoid, transfer_df=dsigmoid)\n",
    "        acc=[]\n",
    "        for k in range(epochs):\n",
    "            nn_model.feedforward(inputs)\n",
    "            nn_model.backpropagate(targets, learning_rate)\n",
    "            outputs=np.argmax(nn_model.o_output,axis=1)\n",
    "            acc.append(accuracy(nn_model, targets))\n",
    "            #acc_test.append(accuracy(nm_model, targets))\n",
    "        print(\"the training time is:\", time() - start, \"s\")\n",
    "        print('The hyper-parameters used are: learning rate=', learning_rate, ' number of epochs=',epochs,', number of hidden neurons=',neurons)\n",
    "        #print('The time needed to train the network is:',time()-start,'s')\n",
    "        print('The final accuracy on training data is:',acc[-1],'%')\n",
    "        nn_model.feedforward(test_data[0])\n",
    "        acc_test=accuracy(nn_model, test_data[1])\n",
    "        print('\\nThe final accuracy on test data is:',acc_test,'%','\\n\\n')\n",
    "        plt.figure()\n",
    "        plt.plot(acc)\n",
    "        plt.title('Accuracy on training data with learning rate=' + str(learning_rate))\n",
    "        "
   ]
  },
  {
   "cell_type": "markdown",
   "metadata": {},
   "source": [
    "Now we'll go for it, we'll train and test a artificial neural network!"
   ]
  },
  {
   "cell_type": "markdown",
   "metadata": {},
   "source": [
    "<div class=\"alert alert-block alert-info\">\n",
    "We'll start we a configuration of 300 epochs, 30 hidden neurons and multiple learning rates</div>"
   ]
  },
  {
   "cell_type": "code",
   "execution_count": 23,
   "metadata": {},
   "outputs": [
    {
     "name": "stdout",
     "output_type": "stream",
     "text": [
      "the training time is: 12.91495156288147 s\n",
      "The hyper-parameters used are: learning rate= 0.1  number of epochs= 300 , number of hidden neurons= 30\n",
      "The final accuracy on training data is: 21.7 %\n",
      "\n",
      "The final accuracy on test data is: 20.82 % \n",
      "\n",
      "\n",
      "the training time is: 12.897900342941284 s\n",
      "The hyper-parameters used are: learning rate= 1.0  number of epochs= 300 , number of hidden neurons= 30\n",
      "The final accuracy on training data is: 88.4 %\n",
      "\n",
      "The final accuracy on test data is: 83.8 % \n",
      "\n",
      "\n",
      "the training time is: 13.494840383529663 s\n",
      "The hyper-parameters used are: learning rate= 5.0  number of epochs= 300 , number of hidden neurons= 30\n",
      "The final accuracy on training data is: 42.8 %\n",
      "\n",
      "The final accuracy on test data is: 40.57 % \n",
      "\n",
      "\n",
      "the training time is: 14.862424373626709 s\n",
      "The hyper-parameters used are: learning rate= 10.0  number of epochs= 300 , number of hidden neurons= 30\n",
      "The final accuracy on training data is: 11.700000000000001 %\n",
      "\n",
      "The final accuracy on test data is: 10.290000000000001 % \n",
      "\n",
      "\n"
     ]
    },
    {
     "data": {
      "image/png": "[encoded data removed]",
      "text/plain": [
       "<Figure size 432x288 with 1 Axes>"
      ]
     },
     "metadata": {},
     "output_type": "display_data"
    },
    {
     "data": {
      "image/png": "[encoded data removed]",
      "text/plain": [
       "<Figure size 432x288 with 1 Axes>"
      ]
     },
     "metadata": {},
     "output_type": "display_data"
    },
    {
     "data": {
      "image/png": "[encoded data removed]",
      "text/plain": [
       "<Figure size 432x288 with 1 Axes>"
      ]
     },
     "metadata": {},
     "output_type": "display_data"
    },
    {
     "data": {
      "image/png": "[encoded data removed]",
      "text/plain": [
       "<Figure size 432x288 with 1 Axes>"
      ]
     },
     "metadata": {},
     "output_type": "display_data"
    }
   ],
   "source": [
    "training(300, 30, [0.1,1.,5., 10.], small_training_data,test_data)"
   ]
  },
  {
   "cell_type": "markdown",
   "metadata": {},
   "source": [
    "<div class=\"alert alert-block alert-info\">\n",
    "From the results above, the best learning rate is 1. It gave an accuracy of 83.8% on test data<br>\n",
    "This learning rate is good enough to give good results by converging rapidly given this number of iterations. It's then a good trade off here between good results and computation time<br><br>\n",
    "Son what we'll do next is, with a learning rate of 1, we'll train our network with 75 hidden neurons, then with 100 hidden neurons.\n",
    "</div>"
   ]
  },
  {
   "cell_type": "code",
   "execution_count": 28,
   "metadata": {},
   "outputs": [
    {
     "name": "stdout",
     "output_type": "stream",
     "text": [
      "the training time is: 16.456557989120483 s\n",
      "The hyper-parameters used are: learning rate= 1  number of epochs= 300 , number of hidden neurons= 75\n",
      "The final accuracy on training data is: 90.9 %\n",
      "\n",
      "The final accuracy on test data is: 84.96000000000001 % \n",
      "\n",
      "\n"
     ]
    },
    {
     "data": {
      "image/png": "[encoded data removed]",
      "text/plain": [
       "<Figure size 432x288 with 1 Axes>"
      ]
     },
     "metadata": {},
     "output_type": "display_data"
    }
   ],
   "source": [
    "training(300, 75, [1], small_training_data,test_data)"
   ]
  },
  {
   "cell_type": "code",
   "execution_count": 29,
   "metadata": {},
   "outputs": [
    {
     "name": "stdout",
     "output_type": "stream",
     "text": [
      "the training time is: 14.40342926979065 s\n",
      "The hyper-parameters used are: learning rate= 1  number of epochs= 300 , number of hidden neurons= 100\n",
      "The final accuracy on training data is: 91.2 %\n",
      "\n",
      "The final accuracy on test data is: 84.94 % \n",
      "\n",
      "\n"
     ]
    },
    {
     "data": {
      "image/png": "[encoded data removed]",
      "text/plain": [
       "<Figure size 432x288 with 1 Axes>"
      ]
     },
     "metadata": {},
     "output_type": "display_data"
    }
   ],
   "source": [
    "training(300, 100, [1], small_training_data,test_data)"
   ]
  },
  {
   "cell_type": "markdown",
   "metadata": {},
   "source": [
    "<div class=\"alert alert-block alert-info\">\n",
    "The configuration with 75 gave slighlty better results than 30 hidden neurons, and almost the same results as 100 hidden neurons, so it's theone we'll keep. It seems like a good trade-off between underfitting (too little hidden neurons) and overfitting (too many hidden neurons).<br><br>\n",
    "So now we will train our final artificial neural network on the full training data.<br>\n",
    "We will use 300 epochs, 75 hidden neurons and a learning rate of 1.\n",
    "</div>"
   ]
  },
  {
   "cell_type": "code",
   "execution_count": 30,
   "metadata": {},
   "outputs": [
    {
     "name": "stdout",
     "output_type": "stream",
     "text": [
      "the training time is: 691.8630530834198 s\n",
      "The hyper-parameters used are: learning rate= 1  number of epochs= 300 , number of hidden neurons= 75\n",
      "The final accuracy on training data is: 87.478 %\n",
      "\n",
      "The final accuracy on test data is: 88.36 % \n",
      "\n",
      "\n"
     ]
    },
    {
     "data": {
      "image/png": "[encoded data removed]",
      "text/plain": [
       "<Figure size 432x288 with 1 Axes>"
      ]
     },
     "metadata": {},
     "output_type": "display_data"
    }
   ],
   "source": [
    "training(300, 75, [1], training_data,test_data)"
   ]
  },
  {
   "cell_type": "markdown",
   "metadata": {},
   "source": [
    "<div class=\"alert alert-block alert-info\">\n",
    "As expected, after training our network on a larger dataset, we got a higher accuracy on test data.\n",
    "</div>"
   ]
  },
  {
   "cell_type": "markdown",
   "metadata": {},
   "source": [
    "<div class=\"alert alert-block alert-info\">\n",
    "Before getting done with ANNs, we will try one last thing.<br>\n",
    "In classification problems, we usually replace the sigmoids in the output layer by a <strong>softmax</strong> function and the MSE loss by a <strong>cross-entropy</strong> loss.<br>\n",
    "So we will do that here, and then retrain our neural net.<br>\n",
    "We'll need to rewrite the feed forward, the back propagation and the training function.\n",
    "</div>"
   ]
  },
  {
   "cell_type": "code",
   "execution_count": 31,
   "metadata": {},
   "outputs": [],
   "source": [
    "class NeuralNetwork(NeuralNetwork):\n",
    "    def feedforward_xe(self, inputs):\n",
    "        \n",
    "        # initialize arrays for activations\n",
    "        self.u_hidden = np.zeros((len(inputs), self.hidden_layer_size-1))\n",
    "        self.u_output = np.zeros((len(inputs), self.output_layer_size))\n",
    "\n",
    "        # initialize arrays for outputs\n",
    "        self.o_input = np.ones((len(inputs), self.input_layer_size))\n",
    "        self.o_hidden = np.ones((len(inputs), self.hidden_layer_size))\n",
    "        self.o_output = np.ones((len(inputs), self.output_layer_size))\n",
    "\n",
    "        # initialize arrays for partial derivatives according to activations\n",
    "        self.dE_du_hidden = np.zeros((len(inputs), self.hidden_layer_size-1))\n",
    "        self.dE_du_output = np.zeros((len(inputs), self.output_layer_size))\n",
    "        \n",
    "        \n",
    "            \n",
    "        #output of the input layer which corresponds to the inputs (bias neuron = 1.0)\n",
    "        self.o_input[:,:-1]=np.array(inputs)\n",
    "        self.o_input[:,-1:]=1\n",
    "        #activations of the hidden layer\n",
    "        self.u_hidden=np.dot(self.o_input, self.W_input_to_hidden)\n",
    "        #ouput of the hidden layer\n",
    "        self.o_hidden[:,:-1]=self.transfer_f(self.u_hidden) #.reshape((1, len(self.transfer_f(self.u_hidden))))\n",
    "        # set bias neuron in hidden layer to 1.0\n",
    "        self.o_hidden[:, -1:]=1\n",
    "        #activations of the output layer\n",
    "        self.u_output=np.dot(self.o_hidden, self.W_hidden_to_output)\n",
    "        \n",
    "        #all the lines above are the same with the first feedforward function\n",
    "        #output of the output layer using the softmax function\n",
    "        self.o_output=softmax(self.u_output)\n",
    "\n",
    "\n",
    "\n",
    "    def backpropagate_xe(self, targets, learning_rate=5.0):\n",
    "\n",
    "            #derivative of the error with respect to the activation for the output layer\n",
    "            self.dE_du_output=(self.o_output-targets)/len(targets)\n",
    "            #derivative of the error with respect to the activation for the hidden layer \n",
    "\n",
    "            self.dE_du_hidden=self.transfer_df(self.u_hidden)*np.dot( self.dE_du_output, self.W_hidden_to_output[:-1,:].T )\n",
    "            #self.dE_du_hidden=self.transfer_df(self.u_hidden)*np.dot( self.dE_du_output, self.W_hidden_to_output[:-1,:].T )\n",
    "            # weight changes for the output layer\n",
    "            self.W_hidden_to_output-=learning_rate*np.dot(self.o_hidden.T , self.dE_du_output)\n",
    "            # weight changes for the hidden layer\n",
    "            self.W_input_to_hidden-=learning_rate*np.dot(self.o_input.T,self.dE_du_hidden )"
   ]
  },
  {
   "cell_type": "code",
   "execution_count": 32,
   "metadata": {},
   "outputs": [],
   "source": [
    "def training_xe(epochs, neurons, lr_list, train_data,test_data):\n",
    "    start=time()\n",
    "    \n",
    "    inputs=train_data[0]\n",
    "    targets=train_data[1]\n",
    "\n",
    "    \n",
    "    \n",
    "    for learning_rate in lr_list:\n",
    "        start=time()\n",
    "        nn_model= NeuralNetwork(input_layer_size=784, hidden_layer_size=neurons, output_layer_size=10, transfer_f=sigmoid, transfer_df=dsigmoid)\n",
    "        acc=[]\n",
    "        for k in range(epochs):\n",
    "            nn_model.feedforward_xe(inputs)\n",
    "            nn_model.backpropagate_xe(targets, learning_rate)\n",
    "            outputs=np.argmax(nn_model.o_output,axis=1)\n",
    "            acc.append(accuracy(nn_model, targets))\n",
    "            #acc_test.append(accuracy(nm_model, targets))\n",
    "        plt.figure()\n",
    "        plt.plot(acc)\n",
    "        plt.title('Accuracy vs Iterations with learning rate=' + str(learning_rate))\n",
    "        print(\"the training time is:\", time() - start, \"s\")\n",
    "        print('The hyper-parameters used are: number of epochs=',epochs,', number of hidden neurons=',neurons)\n",
    "        #print('The time needed to train the network is:',time()-start,'s')\n",
    "        print('The final accuracy on training data is:',acc[-1])\n",
    "        nn_model.feedforward(test_data[0])\n",
    "        acc_test=accuracy(nn_model, test_data[1])\n",
    "        print('\\nThe final accuracy on test data is:',acc_test,'\\n')"
   ]
  },
  {
   "cell_type": "code",
   "execution_count": 19,
   "metadata": {},
   "outputs": [
    {
     "name": "stdout",
     "output_type": "stream",
     "text": [
      "The hyper-parameters used are: number of epochs= 300 , number of hidden neurons= 75\n",
      "The final accuracy on training data is: 91.512\n",
      "\n",
      "The final accuracy on test data is: 91.74 \n",
      "\n"
     ]
    },
    {
     "data": {
      "image/png": "[encoded data removed]",
      "text/plain": [
       "<Figure size 432x288 with 1 Axes>"
      ]
     },
     "metadata": {},
     "output_type": "display_data"
    }
   ],
   "source": [
    "training_xe(300, 75, [1], training_data,test_data)"
   ]
  },
  {
   "cell_type": "markdown",
   "metadata": {},
   "source": [
    "<div class=\"alert alert-block alert-info\">\n",
    "All things being equal, when using the cross-entropy loss with the softmax function, we obtain an accuracy of 91.74% which is much higher than the 88.36% we got with the MSE loss. <br>\n",
    "The softmax function reacts to low stimulation of our neural net with rather uniform distribution and to high stimulation (ie. large numbers) with probabilities close to 0 and 1. It tries to minimize the cross-entropy between the predictions and the truth, that's why it gives better results than the MSE loss.</div>"
   ]
  },
  {
   "cell_type": "markdown",
   "metadata": {},
   "source": [
    "# Part 2: Convolutional Neural Networks"
   ]
  },
  {
   "cell_type": "code",
   "execution_count": null,
   "metadata": {},
   "outputs": [],
   "source": [
    "import tensorflow as tf\n",
    "import numpy as np\n",
    "import pandas as pd\n",
    "import time\n",
    "import matplotlib.pyplot as plt\n",
    "from tensorflow.examples.tutorials.mnist import input_data\n",
    "# To ignore warning\n",
    "import warnings\n",
    "warnings.filterwarnings(\"ignore\")\n",
    "\n",
    "mnist = input_data.read_data_sets(\"MNIST_data/\", one_hot=True)\n",
    "X_train, y_train           = mnist.train.images, mnist.train.labels\n",
    "X_validation, y_validation = mnist.validation.images, mnist.validation.labels\n",
    "X_test, y_test             = mnist.test.images, mnist.test.labels\n",
    "\n",
    "\n",
    "print(\"Image Shape: {}\".format(X_train[0].shape))\n",
    "print(\"Training Set:   {} samples\".format(len(X_train)))\n",
    "print(\"Validation Set: {} samples\".format(len(X_validation)))\n",
    "print(\"Test Set:       {} samples\".format(len(X_test)))\n",
    "\n",
    "epsilon = 1e-10 # this is a parameter you will use later"
   ]
  },
  {
   "cell_type": "markdown",
   "metadata": {},
   "source": [
    "<img src=\"Lenet5.png\" alt=\"Drawing\" style=\"width: 800px;\"/>\n",
    "<center><span>Figure 1: Lenet 5 Architecture</span></center>"
   ]
  },
  {
   "cell_type": "markdown",
   "metadata": {},
   "source": [
    "<b>About CNNs:</b><br>\n",
    "In this the second part of our project, we used convolutional neural networks. Since the layers in a CNN are different, it won’t really be interesting to write all the code by hand, that’s why we used tensorflow. CNNs are basically combinations of convolutional layers, activation layers, subsampling layers and fully connected layers.  In our case, the output is a vector containing 10 probabilities.<br>\n",
    "A convolutional layers applies a set of filters to the input image, each of these filters can be thought of as feature identifiers. The filters on the first layers detect very basic features likes edges or curves, but the deeper we go in the network, the more specific these features become.<br>\n",
    "Subsampling layers are used to reduce the dimension.<br>\n",
    "Fully connected layers role is to reshape the output in the correct wanted shape.<br><br>\n",
    "\n",
    "The figure above of this CNN shows predefined architecture called Lenet 5. It’s good for image classification.\n",
    "\n",
    "The LeNet architecture takes a 28x28xC image as input, where C is the number of color channels. Since MNIST images are grayscale, C is 1 in this case. Its architecture is exactly the following:\n",
    "\n",
    "<b>Layer 1 - Convolution (5x5)</b>: The output shape should be 28x28x6. <b>Activation</b>: ReLU. <b>MaxPooling</b>: The output shape should be 14x14x6.\n",
    "\n",
    "<b>Layer 2 - Convolution (5x5)</b>: The output shape should be 10x10x16. <b>Activation</b>: ReLU. <b>MaxPooling</b>: The output shape should be 5x5x16.\n",
    "\n",
    "<b>Flatten</b>: Flatten the output shape of the final pooling layer such that it's 1D instead of 3D. You may need to use tf.reshape.\n",
    "\n",
    "<b>Layer 3 - Fully Connected</b>: This should have 120 outputs. <b>Activation</b>: ReLU.\n",
    "\n",
    "<b>Layer 4 - Fully Connected</b>: This should have 84 outputs. <b>Activation</b>: ReLU.\n",
    "\n",
    "<b>Layer 5 - Fully Connected</b>: This should have 10 outputs. <b>Activation</b>: softmax."
   ]
  },
  {
   "cell_type": "markdown",
   "metadata": {},
   "source": [
    "<div class=\"alert alert-block alert-info\">\n",
    "Time to implement this using TensorFlow!\n",
    "</div>"
   ]
  },
  {
   "cell_type": "code",
   "execution_count": 3,
   "metadata": {},
   "outputs": [],
   "source": [
    "# Functions for weigths and bias initilization \n",
    "def weight_variable(shape):\n",
    "    initial = tf.truncated_normal(shape, stddev=0.1)\n",
    "    return tf.Variable(initial)\n",
    "\n",
    "def bias_variable(shape):\n",
    "    initial = tf.constant(0., shape=shape)\n",
    "    return tf.Variable(initial)\n",
    "\n"
   ]
  },
  {
   "cell_type": "code",
   "execution_count": 4,
   "metadata": {},
   "outputs": [],
   "source": [
    "def LeNet5_Model(image, dropout=False):    \n",
    "    \n",
    "    input_layer = tf.reshape(image, shape=[-1, 28, 28, 1])\n",
    "    #creating the filter for the first layer\n",
    "    conv1_f=weight_variable([5,5,1,6])\n",
    "    #initializing the bias\n",
    "    conv1_b=bias_variable([6])\n",
    "    #Layer 1 Convolution\n",
    "    conv1=tf.nn.conv2d(input_layer,filter=conv1_f, strides=[1,1,1,1], padding='SAME')\n",
    "    #Activation for Layer 1\n",
    "    activ1=tf.nn.relu(conv1 + conv1_b)\n",
    "    #Layer 1 Max pooling\n",
    "    pool1=tf.nn.max_pool(activ1, ksize=[1, 2, 2, 1], strides=[1, 2, 2, 1], padding='SAME')\n",
    "    \n",
    "    #creating the filter for the second layer\n",
    "    conv2_f=weight_variable([5,5,6,16])\n",
    "    #initializing the bias\n",
    "    conv2_b=bias_variable([16])\n",
    "    #Layer 2 Convolution\n",
    "    conv2=tf.nn.conv2d(pool1,filter=conv2_f, strides=[1,1,1,1], padding='VALID')\n",
    "    #Activation\n",
    "    activ2=tf.nn.relu(conv2 + conv2_b)\n",
    "    #Layer 2 Max pooling\n",
    "    pool2=tf.nn.max_pool(activ2, ksize=[1, 2, 2, 1], strides=[1, 2, 2, 1], padding='SAME')\n",
    "    #print(\"pool2 shape\", pool2.shape)\n",
    "    \n",
    "    #compute dropout if dropout=True\n",
    "    if dropout: \n",
    "        pool2= tf.nn.dropout(pool2, keep_prob = 0.5)\n",
    "    \n",
    "    #Fully connected 1 (Layer 3) initializing the weights\n",
    "    fc1_W = weight_variable([5*5*16, 120])\n",
    "    #Fully connected 1 (Layer 3) initializing the bias\n",
    "    fc1_b = bias_variable([120])\n",
    "    #Fully connected 1 (Layer 3) - activation\n",
    "    fc1_h = tf.nn.relu(tf.matmul(tf.reshape(pool2, shape=[-1, 5*5*16]), fc1_W) + fc1_b)\n",
    "\n",
    "    #Fully connected 2 (Layer 4) initializing the weights\n",
    "    fc2_W = weight_variable([120, 84])\n",
    "    #Fully connected 2 (Layer 4) initializing the bias\n",
    "    fc2_b = bias_variable([84])\n",
    "    #Fully connected 2 (Layer 4) - activation\n",
    "    fc2_h = tf.nn.relu(tf.matmul(fc1_h, fc2_W) + fc2_b)\n",
    "    \n",
    "    #Fully connected 3 (Layer 5) initializing the weights\n",
    "    fc3_W = weight_variable([84, 10])\n",
    "    #Fully connected 3 (Layer 5) initializing the bias\n",
    "    fc3_b = bias_variable([10])\n",
    "    #Fully connected 3 (Layer 5) - activation\n",
    "    fc3_h = tf.matmul(fc2_h, fc3_W) + fc3_b\n",
    "    \n",
    "    return fc3_h"
   ]
  },
  {
   "cell_type": "markdown",
   "metadata": {},
   "source": [
    "<div class=\"alert alert-block alert-info\">\n",
    "Now just for fun, and to have a better understanding of our model, let's compute its the number of parameters:</div>"
   ]
  },
  {
   "cell_type": "markdown",
   "metadata": {},
   "source": [
    "<div class=\"alert alert-block alert-success\">\n",
    "\n",
    "The number of parameters is:  <b>60000</b> .<br>\n",
    "Layer C1:  156 =  (5∗5+1)∗6  \n",
    "Layer S2:  12  = 6∗2  \n",
    "Layer C3:  1516 =  5∗5∗(6∗3+9∗4+1∗6)+16  \n",
    "Layer S4:  32 =  16∗2  \n",
    "Layer C5:  48120 =  ((5∗5∗16+1)∗120) <br>\n",
    "Layer F6:  10164 =  ((120+1)∗84) <br><br>\n",
    "NB: The  +1  in each formula is due to the bias.\n",
    "</div>"
   ]
  },
  {
   "cell_type": "markdown",
   "metadata": {},
   "source": [
    "<div class=\"alert alert-block alert-info\">\n",
    "\n",
    "Let's define our model, its accuracy and the loss function.\n",
    "</div>"
   ]
  },
  {
   "cell_type": "code",
   "execution_count": 5,
   "metadata": {},
   "outputs": [],
   "source": [
    "tf.reset_default_graph() # reset the default graph before defining a new model\n",
    "\n",
    "# Parameters\n",
    "learning_rate = 0.001\n",
    "training_epochs = 40\n",
    "batch_size = 128\n",
    "logs_path = 'MNIST_figures/'\n",
    "\n",
    "display_step = 10\n",
    "\n",
    "# Model, loss function and accuracy\n",
    "# tf Graph Input:  mnist data image of shape 28*28=784\n",
    "x = tf.placeholder(tf.float32, shape=[None, 784], name='InputData')\n",
    "# 0-9 digits recognition,  10 classes\n",
    "y = tf.placeholder(tf.float32, [None, 10], name='LabelData')"
   ]
  },
  {
   "cell_type": "markdown",
   "metadata": {},
   "source": [
    "<div class=\"alert alert-block alert-info\">\n",
    "\n",
    "Let's define the evalution function, it returns the accuracy </div>"
   ]
  },
  {
   "cell_type": "code",
   "execution_count": 6,
   "metadata": {},
   "outputs": [],
   "source": [
    "def evaluate(logits, labels):\n",
    "    # logits will be the outputs of your model, labels will be one-hot vectors corresponding to the actual labels\n",
    "    # logits and labels are numpy arrays\n",
    "    # this function should return the accuracy of your model\n",
    "   \n",
    "    with tf.name_scope('Accuracy'):\n",
    "        # Accuracy\n",
    "        acc = tf.equal(tf.argmax(logits, 1), tf.argmax(labels, 1))\n",
    "        acc = tf.reduce_mean(tf.cast(acc, tf.float32))\n",
    "    return acc"
   ]
  },
  {
   "cell_type": "code",
   "execution_count": 7,
   "metadata": {},
   "outputs": [
    {
     "name": "stdout",
     "output_type": "stream",
     "text": [
      "WARNING:tensorflow:From <ipython-input-7-bf5e902a9524>:8: softmax_cross_entropy_with_logits (from tensorflow.python.ops.nn_ops) is deprecated and will be removed in a future version.\n",
      "Instructions for updating:\n",
      "\n",
      "Future major versions of TensorFlow will allow gradients to flow\n",
      "into the labels input on backprop by default.\n",
      "\n",
      "See `tf.nn.softmax_cross_entropy_with_logits_v2`.\n",
      "\n"
     ]
    }
   ],
   "source": [
    "# Construct model and encapsulating all ops into scopes, making Tensorboard's Graph visualization more convenient\n",
    "with tf.name_scope('Model'):\n",
    "    # Model\n",
    "    pred = LeNet5_Model(x, dropout=False) # LeNet5 Model\n",
    "    #print(\"X shape\", x.shape)\n",
    "with tf.name_scope('Loss'):\n",
    "    # Minimize error using cross entropy\n",
    "    cost = tf.reduce_mean(tf.nn.softmax_cross_entropy_with_logits(labels=y, logits=pred))\n",
    "with tf.name_scope('SGD'):\n",
    "    # Gradient Descent optimizer\n",
    "    optimizer = tf.train.GradientDescentOptimizer(learning_rate).minimize(cost)\n",
    "# Accuracy   \n",
    "acc=evaluate(pred, y)"
   ]
  },
  {
   "cell_type": "markdown",
   "metadata": {},
   "source": [
    "<div class=\"alert alert-block alert-info\">\n",
    "Now we implement the training pipeline and run the training data through it to train the model:\n",
    "<ul>\n",
    "<li>Before each epoch, shuffle the training set.<br>\n",
    "<li>Print the loss per mini batch and the training/validation accuracy per epoch. (Display results every 100 epochs)<br>\n",
    "<li>Save the model after training<br>\n",
    "<li>Print after training the final testing accuracy\n",
    "</ul><br>\n",
    "We will use the Gradient Descent Optimizer</div>"
   ]
  },
  {
   "cell_type": "code",
   "execution_count": 9,
   "metadata": {},
   "outputs": [
    {
     "name": "stdout",
     "output_type": "stream",
     "text": [
      "Accuracy for Epoch 1 is: 0.1403\n",
      "Accuracy for Epoch 2 is: 0.1727\n",
      "Accuracy for Epoch 3 is: 0.24\n",
      "Accuracy for Epoch 4 is: 0.3855\n",
      "Accuracy for Epoch 5 is: 0.6047\n",
      "Accuracy for Epoch 6 is: 0.7832\n",
      "Accuracy for Epoch 7 is: 0.8315\n",
      "Accuracy for Epoch 8 is: 0.8558\n",
      "Accuracy for Epoch 9 is: 0.8731\n",
      "Epoch:  10   =====> Loss= 0.455573776\n",
      "Accuracy for Epoch 10 is: 0.8861\n",
      "Accuracy for Epoch 11 is: 0.8932\n",
      "Accuracy for Epoch 12 is: 0.9009\n",
      "Accuracy for Epoch 13 is: 0.9053\n",
      "Accuracy for Epoch 14 is: 0.9097\n",
      "Accuracy for Epoch 15 is: 0.914\n",
      "Accuracy for Epoch 16 is: 0.9167\n",
      "Accuracy for Epoch 17 is: 0.9198\n",
      "Accuracy for Epoch 18 is: 0.9221\n",
      "Accuracy for Epoch 19 is: 0.9261\n",
      "Epoch:  20   =====> Loss= 0.271318387\n",
      "Accuracy for Epoch 20 is: 0.9282\n",
      "Accuracy for Epoch 21 is: 0.9305\n",
      "Accuracy for Epoch 22 is: 0.9325\n",
      "Accuracy for Epoch 23 is: 0.9348\n",
      "Accuracy for Epoch 24 is: 0.9355\n",
      "Accuracy for Epoch 25 is: 0.9377\n",
      "Accuracy for Epoch 26 is: 0.9404\n",
      "Accuracy for Epoch 27 is: 0.9415\n",
      "Accuracy for Epoch 28 is: 0.9434\n",
      "Accuracy for Epoch 29 is: 0.9454\n",
      "Epoch:  30   =====> Loss= 0.204067206\n",
      "Accuracy for Epoch 30 is: 0.9467\n",
      "Accuracy for Epoch 31 is: 0.9477\n",
      "Accuracy for Epoch 32 is: 0.9489\n",
      "Accuracy for Epoch 33 is: 0.95\n",
      "Accuracy for Epoch 34 is: 0.9509\n",
      "Accuracy for Epoch 35 is: 0.9524\n",
      "Accuracy for Epoch 36 is: 0.9532\n",
      "Accuracy for Epoch 37 is: 0.9538\n",
      "Accuracy for Epoch 38 is: 0.9545\n",
      "Accuracy for Epoch 39 is: 0.9561\n",
      "Epoch:  40   =====> Loss= 0.165571752\n",
      "Accuracy for Epoch 40 is: 0.9571\n",
      "Optimization Finished!\n",
      "Final accuracy: 0.9571\n",
      "The execution time using the Gradient Descent optimizer is 1769.3584523200989 s\n"
     ]
    }
   ],
   "source": [
    "# Initializing the variables\n",
    "init = tf.global_variables_initializer()\n",
    "# Create a summary to monitor cost tensor\n",
    "tf.summary.scalar(\"Loss_LeNet-5_SGD\", cost)\n",
    "# Create a summary to monitor accuracy tensor\n",
    "tf.summary.scalar(\"Accuracy_LeNet-5_SGD\", acc)\n",
    "# Merge all summaries into a single op\n",
    "merged_summary_op = tf.summary.merge_all()\n",
    "\n",
    "\n",
    "def train(init, sess, logs_path, n_epochs, batch_size, optimizer, cost, merged_summary_op):\n",
    "    \n",
    "    # optimizer and cost are the same kinds of objects as in Section 1\n",
    "        sess.run(init)\n",
    "        # op to write logs to Tensorboard\n",
    "        summary_writer = tf.summary.FileWriter(logs_path, graph=tf.get_default_graph())\n",
    "        # Training cycle\n",
    "        for epoch in range(training_epochs):\n",
    "            avg_cost = 0.\n",
    "            total_batch = int(mnist.train.num_examples/batch_size)\n",
    "            # Loop over all batches\n",
    "            for i in range(total_batch):\n",
    "                batch_xs, batch_ys = mnist.train.next_batch(batch_size, shuffle=(i==0))\n",
    "\n",
    "                # Run optimization op (backprop), cost op (to get loss value)\n",
    "                # and summary nodes\n",
    "                _, c, summary = sess.run([optimizer, cost, merged_summary_op],\n",
    "                                         feed_dict={x: batch_xs, y: batch_ys})\n",
    "                # Write logs at every iteration\n",
    "                summary_writer.add_summary(summary, epoch * total_batch + i)\n",
    "                # Compute average loss\n",
    "                avg_cost += c / total_batch\n",
    "            # Display logs per epoch step\n",
    "            if (epoch+1) % display_step == 0:\n",
    "                print(\"Epoch: \", '%02d' % (epoch+1), \"  =====> Loss=\", \"{:.9f}\".format(avg_cost))\n",
    "            print(\"Accuracy for Epoch\",(epoch+1), 'is:', acc.eval({x: mnist.test.images, y: mnist.test.labels}))\n",
    "\n",
    "\n",
    "        print(\"Optimization Finished!\")\n",
    "        summary_writer.flush()\n",
    "    \n",
    "        # Print the accuracy on testing data\n",
    "        print(\"Final accuracy:\", acc.eval({x: mnist.test.images, y: mnist.test.labels}))\n",
    "\n",
    "start=time.time()\n",
    "with tf.Session() as sess:\n",
    "    train(init, sess, logs_path, training_epochs, batch_size, optimizer, cost, merged_summary_op)\n",
    "end=time.time()\n",
    "print(\"The execution time using the Gradient Descent optimizer is\", end-start, \"s\")"
   ]
  },
  {
   "cell_type": "markdown",
   "metadata": {},
   "source": [
    "<div class=\"alert alert-block alert-info\">\n",
    "\n",
    "Now we retrain out network, not with gradient descent optimizer, but with <b>Adam Optimizer</b> this time.<br><br>\n",
    "Adam Optimizer uses Kingma and Ba's Adam algorithm to control the learning rate. Adam offers several advantages over the simple Gradient Descent Optimizer. Foremost is that it uses moving averages of the parameters (momentum); Simply put, this enables Adam to use a larger effective step size, and the algorithm will converge to this step size without fine tuning.<br><br>\n",
    "Since it requires more computation, it might require more time in general, but in our case the dataset size is not that big, sothe difference between the two optimizers training time is negligible but Adam Optimizer accuracy is much better. <br>Therefore, it should be better to use it.\n",
    "\n",
    "\n",
    "</div>"
   ]
  },
  {
   "cell_type": "code",
   "execution_count": 11,
   "metadata": {},
   "outputs": [
    {
     "name": "stdout",
     "output_type": "stream",
     "text": [
      "Epoch:  01   =====> Loss= 0.331359965\n",
      "Accuracy for Epoch 1 is: 0.9691\n",
      "Epoch:  02   =====> Loss= 0.093254852\n",
      "Accuracy for Epoch 2 is: 0.9788\n",
      "Epoch:  03   =====> Loss= 0.066139644\n",
      "Accuracy for Epoch 3 is: 0.983\n",
      "Epoch:  04   =====> Loss= 0.052111943\n",
      "Accuracy for Epoch 4 is: 0.9851\n",
      "Epoch:  05   =====> Loss= 0.043380331\n",
      "Accuracy for Epoch 5 is: 0.987\n",
      "Epoch:  06   =====> Loss= 0.036639620\n",
      "Accuracy for Epoch 6 is: 0.9858\n",
      "Epoch:  07   =====> Loss= 0.030749412\n",
      "Accuracy for Epoch 7 is: 0.9864\n",
      "Epoch:  08   =====> Loss= 0.027192664\n",
      "Accuracy for Epoch 8 is: 0.9849\n",
      "Epoch:  09   =====> Loss= 0.023345638\n",
      "Accuracy for Epoch 9 is: 0.982\n",
      "Epoch:  10   =====> Loss= 0.020711382\n",
      "Accuracy for Epoch 10 is: 0.9841\n",
      "Epoch:  11   =====> Loss= 0.019729087\n",
      "Accuracy for Epoch 11 is: 0.9847\n",
      "Epoch:  12   =====> Loss= 0.016154980\n",
      "Accuracy for Epoch 12 is: 0.9831\n",
      "Epoch:  13   =====> Loss= 0.015759520\n",
      "Accuracy for Epoch 13 is: 0.9845\n",
      "Epoch:  14   =====> Loss= 0.014073682\n",
      "Accuracy for Epoch 14 is: 0.9875\n",
      "Epoch:  15   =====> Loss= 0.011793687\n",
      "Accuracy for Epoch 15 is: 0.9874\n",
      "Epoch:  16   =====> Loss= 0.012983198\n",
      "Accuracy for Epoch 16 is: 0.9875\n",
      "Epoch:  17   =====> Loss= 0.011427486\n",
      "Accuracy for Epoch 17 is: 0.9876\n",
      "Epoch:  18   =====> Loss= 0.009592327\n",
      "Accuracy for Epoch 18 is: 0.987\n",
      "Epoch:  19   =====> Loss= 0.008248713\n",
      "Accuracy for Epoch 19 is: 0.986\n",
      "Epoch:  20   =====> Loss= 0.009206468\n",
      "Accuracy for Epoch 20 is: 0.9868\n",
      "Epoch:  21   =====> Loss= 0.007875444\n",
      "Accuracy for Epoch 21 is: 0.9889\n",
      "Epoch:  22   =====> Loss= 0.008280199\n",
      "Accuracy for Epoch 22 is: 0.9862\n",
      "Epoch:  23   =====> Loss= 0.007431725\n",
      "Accuracy for Epoch 23 is: 0.9888\n",
      "Epoch:  24   =====> Loss= 0.007211917\n",
      "Accuracy for Epoch 24 is: 0.9881\n",
      "Epoch:  25   =====> Loss= 0.006887758\n",
      "Accuracy for Epoch 25 is: 0.9881\n",
      "Epoch:  26   =====> Loss= 0.004168948\n",
      "Accuracy for Epoch 26 is: 0.9866\n",
      "Epoch:  27   =====> Loss= 0.005285025\n",
      "Accuracy for Epoch 27 is: 0.9882\n",
      "Epoch:  28   =====> Loss= 0.007238777\n",
      "Accuracy for Epoch 28 is: 0.9884\n",
      "Epoch:  29   =====> Loss= 0.005966467\n",
      "Accuracy for Epoch 29 is: 0.9872\n",
      "Epoch:  30   =====> Loss= 0.005027645\n",
      "Accuracy for Epoch 30 is: 0.9889\n",
      "Epoch:  31   =====> Loss= 0.006692488\n",
      "Accuracy for Epoch 31 is: 0.9894\n",
      "Epoch:  32   =====> Loss= 0.003121008\n",
      "Accuracy for Epoch 32 is: 0.9885\n",
      "Epoch:  33   =====> Loss= 0.004138877\n",
      "Accuracy for Epoch 33 is: 0.9877\n",
      "Epoch:  34   =====> Loss= 0.004289556\n",
      "Accuracy for Epoch 34 is: 0.9893\n",
      "Epoch:  35   =====> Loss= 0.004845052\n",
      "Accuracy for Epoch 35 is: 0.9894\n",
      "Epoch:  36   =====> Loss= 0.003906454\n",
      "Accuracy for Epoch 36 is: 0.9887\n",
      "Epoch:  37   =====> Loss= 0.003400278\n",
      "Accuracy for Epoch 37 is: 0.9858\n",
      "Epoch:  38   =====> Loss= 0.005076056\n",
      "Accuracy for Epoch 38 is: 0.9902\n",
      "Epoch:  39   =====> Loss= 0.004707842\n",
      "Accuracy for Epoch 39 is: 0.9869\n",
      "Epoch:  40   =====> Loss= 0.003619884\n",
      "Accuracy for Epoch 40 is: 0.9862\n",
      "Optimization Finished!\n",
      "Final accuracy: 0.9862\n",
      "The execution time using the Adam optimizer is 1670.0754404067993 s\n"
     ]
    }
   ],
   "source": [
    "tf.reset_default_graph()\n",
    "# Parameters\n",
    "learning_rate = 0.001\n",
    "training_epochs = 40\n",
    "batch_size = 128\n",
    "logs_path = 'Adam_optimizer/'\n",
    "\n",
    "display_step = 1\n",
    "\n",
    "# Model, loss function and accuracy\n",
    "# tf Graph Input:  mnist data image of shape 28*28=784\n",
    "x = tf.placeholder(tf.float32, shape=[None, 784], name='InputData')\n",
    "# 0-9 digits recognition,  10 classes\n",
    "y = tf.placeholder(tf.float32, [None, 10], name='LabelData')\n",
    "\n",
    "# Construct model and encapsulating all ops into scopes, making Tensorboard's Graph visualization more convenient\n",
    "with tf.name_scope('Model'):\n",
    "    # Model\n",
    "    pred = LeNet5_Model(x) # LeNet5 Model\n",
    "    #print(\"X shape\", x.shape)\n",
    "with tf.name_scope('Loss'):\n",
    "    # Minimize error using cross entropy\n",
    "    cost = tf.reduce_mean(tf.nn.softmax_cross_entropy_with_logits(labels=y, logits=pred))\n",
    "with tf.name_scope('Adam'):\n",
    "    # Adam optimizer\n",
    "    optimizer = tf.train.AdamOptimizer(learning_rate).minimize(cost)\n",
    "# Accuracy   \n",
    "acc=evaluate(pred, y)\n",
    "\n",
    "# Initializing the variables\n",
    "init = tf.global_variables_initializer()\n",
    "# Create a summary to monitor cost tensor\n",
    "tf.summary.scalar(\"Loss_LeNet-5_Adam\", cost)\n",
    "# Create a summary to monitor accuracy tensor\n",
    "tf.summary.scalar(\"Accuracy_LeNet-5_Adam\", acc)\n",
    "# Merge all summaries into a single op\n",
    "merged_summary_op = tf.summary.merge_all()\n",
    "start=time.time()\n",
    "with tf.Session() as sess:\n",
    "    train(init, sess, logs_path, training_epochs, batch_size, optimizer, cost, merged_summary_op)\n",
    "end=time.time()\n",
    "print(\"The execution time using the Adam optimizer is\", end-start, \"s\")"
   ]
  },
  {
   "cell_type": "markdown",
   "metadata": {},
   "source": [
    "<div class=\"alert alert-block alert-info\">\n",
    "From the first iteration (epoch), we reached an accuracy of $96.91$% ! Which is amazing, and it's due to the fact that during each iteration, many parameter updates are done on mini batches of the data set, allowing Adam Optimizer to control the learning rate after each update.<br>\n",
    "The final accuracy is $98.62$%, which is very good, but not good enough for us. <br><br>That's why, to help improve the results of our model, we will add one last optimization: <b> dropout regularization</b> \n",
    "<br> It works on the concept: <b> Learn less to learn better</b><br>\n",
    "We use tf.nn.dropout to randomly drop units from the neural network during training before the fully connected layers. This prevents units from co-adapting too much. This significantly reduces overfitting and gives major improvements over other regularization methods.\n",
    "</div>"
   ]
  },
  {
   "cell_type": "markdown",
   "metadata": {},
   "source": [
    "We add dropout before the first fully connected layer with a keeping probability of $0.5$."
   ]
  },
  {
   "cell_type": "code",
   "execution_count": 12,
   "metadata": {
    "scrolled": false
   },
   "outputs": [
    {
     "name": "stdout",
     "output_type": "stream",
     "text": [
      "Epoch:  01   =====> Loss= 0.355113132\n",
      "Accuracy for Epoch 1 is: 0.9723\n",
      "Epoch:  02   =====> Loss= 0.087707463\n",
      "Accuracy for Epoch 2 is: 0.9817\n",
      "Epoch:  03   =====> Loss= 0.061158387\n",
      "Accuracy for Epoch 3 is: 0.985\n",
      "Epoch:  04   =====> Loss= 0.048097268\n",
      "Accuracy for Epoch 4 is: 0.9864\n",
      "Epoch:  05   =====> Loss= 0.039355494\n",
      "Accuracy for Epoch 5 is: 0.9871\n",
      "Epoch:  06   =====> Loss= 0.033055457\n",
      "Accuracy for Epoch 6 is: 0.9884\n",
      "Epoch:  07   =====> Loss= 0.028234790\n",
      "Accuracy for Epoch 7 is: 0.9891\n",
      "Epoch:  08   =====> Loss= 0.023703151\n",
      "Accuracy for Epoch 8 is: 0.9888\n",
      "Epoch:  09   =====> Loss= 0.020063447\n",
      "Accuracy for Epoch 9 is: 0.9884\n",
      "Epoch:  10   =====> Loss= 0.018048270\n",
      "Accuracy for Epoch 10 is: 0.9862\n",
      "Epoch:  11   =====> Loss= 0.016236878\n",
      "Accuracy for Epoch 11 is: 0.9852\n",
      "Epoch:  12   =====> Loss= 0.014429069\n",
      "Accuracy for Epoch 12 is: 0.9872\n",
      "Epoch:  13   =====> Loss= 0.013652794\n",
      "Accuracy for Epoch 13 is: 0.9862\n",
      "Epoch:  14   =====> Loss= 0.012506887\n",
      "Accuracy for Epoch 14 is: 0.9877\n",
      "Epoch:  15   =====> Loss= 0.010735222\n",
      "Accuracy for Epoch 15 is: 0.9879\n",
      "Epoch:  16   =====> Loss= 0.010539560\n",
      "Accuracy for Epoch 16 is: 0.9887\n",
      "Epoch:  17   =====> Loss= 0.008757108\n",
      "Accuracy for Epoch 17 is: 0.9886\n",
      "Epoch:  18   =====> Loss= 0.009974624\n",
      "Accuracy for Epoch 18 is: 0.9886\n",
      "Epoch:  19   =====> Loss= 0.006930930\n",
      "Accuracy for Epoch 19 is: 0.9897\n",
      "Epoch:  20   =====> Loss= 0.008299263\n",
      "Accuracy for Epoch 20 is: 0.9876\n",
      "Epoch:  21   =====> Loss= 0.007021005\n",
      "Accuracy for Epoch 21 is: 0.9892\n",
      "Epoch:  22   =====> Loss= 0.006664472\n",
      "Accuracy for Epoch 22 is: 0.9892\n",
      "Epoch:  23   =====> Loss= 0.006269734\n",
      "Accuracy for Epoch 23 is: 0.988\n",
      "Epoch:  24   =====> Loss= 0.007918361\n",
      "Accuracy for Epoch 24 is: 0.989\n",
      "Epoch:  25   =====> Loss= 0.004957077\n",
      "Accuracy for Epoch 25 is: 0.9879\n",
      "Epoch:  26   =====> Loss= 0.006664415\n",
      "Accuracy for Epoch 26 is: 0.989\n",
      "Epoch:  27   =====> Loss= 0.005916878\n",
      "Accuracy for Epoch 27 is: 0.9886\n",
      "Epoch:  28   =====> Loss= 0.003921100\n",
      "Accuracy for Epoch 28 is: 0.9902\n",
      "Epoch:  29   =====> Loss= 0.005974894\n",
      "Accuracy for Epoch 29 is: 0.989\n",
      "Epoch:  30   =====> Loss= 0.003981447\n",
      "Accuracy for Epoch 30 is: 0.9906\n",
      "Epoch:  31   =====> Loss= 0.002697139\n",
      "Accuracy for Epoch 31 is: 0.9898\n",
      "Epoch:  32   =====> Loss= 0.005128180\n",
      "Accuracy for Epoch 32 is: 0.9902\n",
      "Epoch:  33   =====> Loss= 0.003209051\n",
      "Accuracy for Epoch 33 is: 0.9886\n",
      "Epoch:  34   =====> Loss= 0.007783811\n",
      "Accuracy for Epoch 34 is: 0.9905\n",
      "Epoch:  35   =====> Loss= 0.002972768\n",
      "Accuracy for Epoch 35 is: 0.9902\n",
      "Epoch:  36   =====> Loss= 0.003777740\n",
      "Accuracy for Epoch 36 is: 0.9896\n",
      "Epoch:  37   =====> Loss= 0.005585445\n",
      "Accuracy for Epoch 37 is: 0.9876\n",
      "Epoch:  38   =====> Loss= 0.003879098\n",
      "Accuracy for Epoch 38 is: 0.9896\n",
      "Epoch:  39   =====> Loss= 0.003651577\n",
      "Accuracy for Epoch 39 is: 0.9894\n",
      "Epoch:  40   =====> Loss= 0.002655965\n",
      "Accuracy for Epoch 40 is: 0.989\n",
      "Epoch:  41   =====> Loss= 0.002495068\n",
      "Accuracy for Epoch 41 is: 0.9894\n",
      "Epoch:  42   =====> Loss= 0.003697082\n",
      "Accuracy for Epoch 42 is: 0.9901\n",
      "Epoch:  43   =====> Loss= 0.004047966\n",
      "Accuracy for Epoch 43 is: 0.9891\n",
      "Epoch:  44   =====> Loss= 0.003632638\n",
      "Accuracy for Epoch 44 is: 0.9881\n",
      "Epoch:  45   =====> Loss= 0.006250461\n",
      "Accuracy for Epoch 45 is: 0.9883\n",
      "Epoch:  46   =====> Loss= 0.002006829\n",
      "Accuracy for Epoch 46 is: 0.9899\n",
      "Epoch:  47   =====> Loss= 0.001394244\n",
      "Accuracy for Epoch 47 is: 0.9899\n",
      "Epoch:  48   =====> Loss= 0.003768121\n",
      "Accuracy for Epoch 48 is: 0.9894\n",
      "Epoch:  49   =====> Loss= 0.005703898\n",
      "Accuracy for Epoch 49 is: 0.9886\n",
      "Epoch:  50   =====> Loss= 0.002120634\n",
      "Accuracy for Epoch 50 is: 0.9905\n",
      "Epoch:  51   =====> Loss= 0.001267357\n",
      "Accuracy for Epoch 51 is: 0.9895\n",
      "Epoch:  52   =====> Loss= 0.002480118\n",
      "Accuracy for Epoch 52 is: 0.9899\n",
      "Epoch:  53   =====> Loss= 0.003368951\n",
      "Accuracy for Epoch 53 is: 0.9892\n",
      "Epoch:  54   =====> Loss= 0.002676260\n",
      "Accuracy for Epoch 54 is: 0.9896\n",
      "Epoch:  55   =====> Loss= 0.002750457\n",
      "Accuracy for Epoch 55 is: 0.9892\n",
      "Epoch:  56   =====> Loss= 0.002653864\n",
      "Accuracy for Epoch 56 is: 0.9905\n",
      "Epoch:  57   =====> Loss= 0.000709845\n",
      "Accuracy for Epoch 57 is: 0.9909\n",
      "Epoch:  58   =====> Loss= 0.004457393\n",
      "Accuracy for Epoch 58 is: 0.9883\n",
      "Epoch:  59   =====> Loss= 0.003337449\n",
      "Accuracy for Epoch 59 is: 0.9899\n",
      "Epoch:  60   =====> Loss= 0.001231913\n",
      "Accuracy for Epoch 60 is: 0.9902\n",
      "Optimization Finished!\n",
      "Final accuracy: 0.9902\n"
     ]
    }
   ],
   "source": [
    "def LeNet5_Model_Dropout(image):    \n",
    "    #computes dropout before the first fully connected layer\n",
    "    LeNet5_Model(image, dropout=True)\n",
    "\n",
    "tf.reset_default_graph()\n",
    "\n",
    "# Parameters\n",
    "learning_rate = 0.001\n",
    "training_epochs = 60\n",
    "batch_size = 128\n",
    "logs_path = 'Adam_drop/'\n",
    "\n",
    "display_step = 1\n",
    "\n",
    "# Model, loss function and accuracy\n",
    "# tf Graph Input:  mnist data image of shape 28*28=784\n",
    "x = tf.placeholder(tf.float32, shape=[None, 784], name='InputData')\n",
    "# 0-9 digits recognition,  10 classes\n",
    "y = tf.placeholder(tf.float32, [None, 10], name='LabelData')\n",
    "\n",
    "# Construct model and encapsulating all ops into scopes, making Tensorboard's Graph visualization more convenient\n",
    "with tf.name_scope('Model'):\n",
    "    # Model\n",
    "    pred = LeNet5_Model(x) # LeNet5 Model\n",
    "    #print(\"X shape\", x.shape)\n",
    "with tf.name_scope('Loss'):\n",
    "    # Minimize error using cross entropy\n",
    "    cost = tf.reduce_mean(tf.nn.softmax_cross_entropy_with_logits(labels=y, logits=pred))\n",
    "with tf.name_scope('AdamD'):\n",
    "    # Adam optimizer\n",
    "    optimizer = tf.train.AdamOptimizer(learning_rate).minimize(cost)\n",
    "# Accuracy   \n",
    "acc=evaluate(pred, y)\n",
    "\n",
    "# Initializing the variables\n",
    "init = tf.global_variables_initializer()\n",
    "# Create a summary to monitor cost tensor\n",
    "tf.summary.scalar(\"Loss_LeNet-5_AdamD\", cost)\n",
    "# Create a summary to monitor accuracy tensor\n",
    "tf.summary.scalar(\"Accuracy_LeNet-5_AdamD\", acc)\n",
    "# Merge all summaries into a single op\n",
    "merged_summary_op = tf.summary.merge_all()\n",
    "\n",
    "with tf.Session() as sess:\n",
    "    train(init, sess, logs_path, training_epochs, batch_size, optimizer, cost, merged_summary_op)"
   ]
  },
  {
   "cell_type": "markdown",
   "metadata": {},
   "source": [
    "<div class=\"alert alert-block alert-info\">\n",
    "We can see from the result that dropout improves the performance of our neural networks from $98.62$% to $99.02$%.<br>\n",
    "After a long series of tests and optimizations, we can finally say: <br><br><b>GOAL ACHIEVED</b>\n",
    "<div>"
   ]
  }
 ],
 "metadata": {
  "kernelspec": {
   "display_name": "Python 3",
   "language": "python",
   "name": "python3"
  },
  "language_info": {
   "codemirror_mode": {
    "name": "ipython",
    "version": 3
   },
   "file_extension": ".py",
   "mimetype": "text/x-python",
   "name": "python",
   "nbconvert_exporter": "python",
   "pygments_lexer": "ipython3",
   "version": "3.6.5"
  }
 },
 "nbformat": 4,
 "nbformat_minor": 2
}
